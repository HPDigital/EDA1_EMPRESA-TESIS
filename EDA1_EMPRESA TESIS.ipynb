{
 "cells": [
  {
   "cell_type": "code",
   "execution_count": 1,
   "metadata": {},
   "outputs": [],
   "source": [
    "import pandas as pd\n",
    "import seaborn as sns\n",
    "import numpy as np\n",
    "import datetime as dt\n",
    "import matplotlib.pyplot as plt\n",
    "%matplotlib inline"
   ]
  },
  {
   "cell_type": "code",
   "execution_count": 2,
   "metadata": {},
   "outputs": [],
   "source": [
    "#columnas =['PedidoId', 'Cantidad', 'MontoProd', 'MontoFinalProd', 'Producto','ID CLIENTE', 'Ciudad', 'Fecha']\n",
    "df=pd.read_excel(\"C:/Users/HP/Desktop/TESIS/TESIS EXCEL/DatosNDA5.xlsx\")"
   ]
  },
  {
   "cell_type": "code",
   "execution_count": null,
   "metadata": {},
   "outputs": [],
   "source": [
    "#df['Fecha']=pd.to_datetime(df['Fecha'] )"
   ]
  },
  {
   "cell_type": "code",
   "execution_count": 3,
   "metadata": {},
   "outputs": [
    {
     "data": {
      "text/html": [
       "<div>\n",
       "<style scoped>\n",
       "    .dataframe tbody tr th:only-of-type {\n",
       "        vertical-align: middle;\n",
       "    }\n",
       "\n",
       "    .dataframe tbody tr th {\n",
       "        vertical-align: top;\n",
       "    }\n",
       "\n",
       "    .dataframe thead th {\n",
       "        text-align: right;\n",
       "    }\n",
       "</style>\n",
       "<table border=\"1\" class=\"dataframe\">\n",
       "  <thead>\n",
       "    <tr style=\"text-align: right;\">\n",
       "      <th></th>\n",
       "      <th>PedidoId</th>\n",
       "      <th>Cantidad</th>\n",
       "      <th>PrecioUnitario</th>\n",
       "      <th>MontoFinal</th>\n",
       "      <th>CodigoProducto</th>\n",
       "      <th>Producto</th>\n",
       "      <th>Fecha</th>\n",
       "      <th>Departamento</th>\n",
       "      <th>Grandes_Categorias</th>\n",
       "      <th>Id_Cliente</th>\n",
       "      <th>Tipo_pedido</th>\n",
       "      <th>Dia_Semana</th>\n",
       "    </tr>\n",
       "  </thead>\n",
       "  <tbody>\n",
       "    <tr>\n",
       "      <th>0</th>\n",
       "      <td>100</td>\n",
       "      <td>1</td>\n",
       "      <td>34</td>\n",
       "      <td>34</td>\n",
       "      <td>84172297</td>\n",
       "      <td>Acondicionador Dove Control Caida 400Ml</td>\n",
       "      <td>2020-03-28</td>\n",
       "      <td>Cochabamba</td>\n",
       "      <td>Personal Care</td>\n",
       "      <td>71494844</td>\n",
       "      <td>Familiar</td>\n",
       "      <td>Sábado</td>\n",
       "    </tr>\n",
       "    <tr>\n",
       "      <th>1</th>\n",
       "      <td>110</td>\n",
       "      <td>1</td>\n",
       "      <td>34</td>\n",
       "      <td>34</td>\n",
       "      <td>84172297</td>\n",
       "      <td>Acondicionador Dove Control Caida 400Ml</td>\n",
       "      <td>2020-03-28</td>\n",
       "      <td>Cochabamba</td>\n",
       "      <td>Personal Care</td>\n",
       "      <td>70757310</td>\n",
       "      <td>Familiar</td>\n",
       "      <td>Sábado</td>\n",
       "    </tr>\n",
       "    <tr>\n",
       "      <th>2</th>\n",
       "      <td>148</td>\n",
       "      <td>1</td>\n",
       "      <td>34</td>\n",
       "      <td>34</td>\n",
       "      <td>84172297</td>\n",
       "      <td>Acondicionador Dove Control Caida 400Ml</td>\n",
       "      <td>2020-03-29</td>\n",
       "      <td>La Paz</td>\n",
       "      <td>Personal Care</td>\n",
       "      <td>77233662</td>\n",
       "      <td>Familiar</td>\n",
       "      <td>Domingo</td>\n",
       "    </tr>\n",
       "    <tr>\n",
       "      <th>3</th>\n",
       "      <td>182</td>\n",
       "      <td>2</td>\n",
       "      <td>34</td>\n",
       "      <td>68</td>\n",
       "      <td>84172297</td>\n",
       "      <td>Acondicionador Dove Control Caida 400Ml</td>\n",
       "      <td>2020-03-29</td>\n",
       "      <td>Santa Cruz</td>\n",
       "      <td>Personal Care</td>\n",
       "      <td>67899785</td>\n",
       "      <td>Familiar</td>\n",
       "      <td>Domingo</td>\n",
       "    </tr>\n",
       "    <tr>\n",
       "      <th>4</th>\n",
       "      <td>216</td>\n",
       "      <td>1</td>\n",
       "      <td>34</td>\n",
       "      <td>34</td>\n",
       "      <td>84172297</td>\n",
       "      <td>Acondicionador Dove Control Caida 400Ml</td>\n",
       "      <td>2020-03-29</td>\n",
       "      <td>La Paz</td>\n",
       "      <td>Personal Care</td>\n",
       "      <td>76706668</td>\n",
       "      <td>Familiar</td>\n",
       "      <td>Domingo</td>\n",
       "    </tr>\n",
       "    <tr>\n",
       "      <th>...</th>\n",
       "      <td>...</td>\n",
       "      <td>...</td>\n",
       "      <td>...</td>\n",
       "      <td>...</td>\n",
       "      <td>...</td>\n",
       "      <td>...</td>\n",
       "      <td>...</td>\n",
       "      <td>...</td>\n",
       "      <td>...</td>\n",
       "      <td>...</td>\n",
       "      <td>...</td>\n",
       "      <td>...</td>\n",
       "    </tr>\n",
       "    <tr>\n",
       "      <th>795989</th>\n",
       "      <td>4200</td>\n",
       "      <td>1</td>\n",
       "      <td>10</td>\n",
       "      <td>10</td>\n",
       "      <td>6777630891</td>\n",
       "      <td>Women Deo Soft Solid Clas12X48G</td>\n",
       "      <td>2020-04-22</td>\n",
       "      <td>Cochabamba</td>\n",
       "      <td>Personal Care</td>\n",
       "      <td>1630</td>\n",
       "      <td>Multifamiliar</td>\n",
       "      <td>Miércoles</td>\n",
       "    </tr>\n",
       "    <tr>\n",
       "      <th>795990</th>\n",
       "      <td>4324</td>\n",
       "      <td>2</td>\n",
       "      <td>10</td>\n",
       "      <td>20</td>\n",
       "      <td>6777630891</td>\n",
       "      <td>Women Deo Soft Solid Clas12X48G</td>\n",
       "      <td>2020-04-23</td>\n",
       "      <td>La Paz</td>\n",
       "      <td>Personal Care</td>\n",
       "      <td>1636</td>\n",
       "      <td>Multifamiliar</td>\n",
       "      <td>Jueves</td>\n",
       "    </tr>\n",
       "    <tr>\n",
       "      <th>795991</th>\n",
       "      <td>4594</td>\n",
       "      <td>1</td>\n",
       "      <td>10</td>\n",
       "      <td>10</td>\n",
       "      <td>6777630891</td>\n",
       "      <td>Women Deo Soft Solid Clas12X48G</td>\n",
       "      <td>2020-04-23</td>\n",
       "      <td>Santa Cruz</td>\n",
       "      <td>Personal Care</td>\n",
       "      <td>1662</td>\n",
       "      <td>Multifamiliar</td>\n",
       "      <td>Jueves</td>\n",
       "    </tr>\n",
       "    <tr>\n",
       "      <th>795992</th>\n",
       "      <td>23529</td>\n",
       "      <td>2</td>\n",
       "      <td>10</td>\n",
       "      <td>20</td>\n",
       "      <td>6777630891</td>\n",
       "      <td>Women Deo Soft Solid Clas12X48G</td>\n",
       "      <td>2020-07-12</td>\n",
       "      <td>Tarija</td>\n",
       "      <td>Personal Care</td>\n",
       "      <td>1828</td>\n",
       "      <td>Multifamiliar</td>\n",
       "      <td>Domingo</td>\n",
       "    </tr>\n",
       "    <tr>\n",
       "      <th>795993</th>\n",
       "      <td>44137</td>\n",
       "      <td>1</td>\n",
       "      <td>10</td>\n",
       "      <td>10</td>\n",
       "      <td>6777630891</td>\n",
       "      <td>Women Deo Soft Solid Clas12X48G</td>\n",
       "      <td>2020-04-01</td>\n",
       "      <td>Tarija</td>\n",
       "      <td>Personal Care</td>\n",
       "      <td>1404</td>\n",
       "      <td>Familiar</td>\n",
       "      <td>Miércoles</td>\n",
       "    </tr>\n",
       "  </tbody>\n",
       "</table>\n",
       "<p>795994 rows × 12 columns</p>\n",
       "</div>"
      ],
      "text/plain": [
       "        PedidoId  Cantidad  PrecioUnitario  MontoFinal  CodigoProducto  \\\n",
       "0            100         1              34          34        84172297   \n",
       "1            110         1              34          34        84172297   \n",
       "2            148         1              34          34        84172297   \n",
       "3            182         2              34          68        84172297   \n",
       "4            216         1              34          34        84172297   \n",
       "...          ...       ...             ...         ...             ...   \n",
       "795989      4200         1              10          10      6777630891   \n",
       "795990      4324         2              10          20      6777630891   \n",
       "795991      4594         1              10          10      6777630891   \n",
       "795992     23529         2              10          20      6777630891   \n",
       "795993     44137         1              10          10      6777630891   \n",
       "\n",
       "                                       Producto      Fecha Departamento  \\\n",
       "0       Acondicionador Dove Control Caida 400Ml 2020-03-28   Cochabamba   \n",
       "1       Acondicionador Dove Control Caida 400Ml 2020-03-28   Cochabamba   \n",
       "2       Acondicionador Dove Control Caida 400Ml 2020-03-29       La Paz   \n",
       "3       Acondicionador Dove Control Caida 400Ml 2020-03-29   Santa Cruz   \n",
       "4       Acondicionador Dove Control Caida 400Ml 2020-03-29       La Paz   \n",
       "...                                         ...        ...          ...   \n",
       "795989          Women Deo Soft Solid Clas12X48G 2020-04-22   Cochabamba   \n",
       "795990          Women Deo Soft Solid Clas12X48G 2020-04-23       La Paz   \n",
       "795991          Women Deo Soft Solid Clas12X48G 2020-04-23   Santa Cruz   \n",
       "795992          Women Deo Soft Solid Clas12X48G 2020-07-12       Tarija   \n",
       "795993          Women Deo Soft Solid Clas12X48G 2020-04-01       Tarija   \n",
       "\n",
       "       Grandes_Categorias Id_Cliente    Tipo_pedido Dia_Semana  \n",
       "0           Personal Care   71494844       Familiar     Sábado  \n",
       "1           Personal Care   70757310       Familiar     Sábado  \n",
       "2           Personal Care   77233662       Familiar    Domingo  \n",
       "3           Personal Care   67899785       Familiar    Domingo  \n",
       "4           Personal Care   76706668       Familiar    Domingo  \n",
       "...                   ...        ...            ...        ...  \n",
       "795989      Personal Care       1630  Multifamiliar  Miércoles  \n",
       "795990      Personal Care       1636  Multifamiliar     Jueves  \n",
       "795991      Personal Care       1662  Multifamiliar     Jueves  \n",
       "795992      Personal Care       1828  Multifamiliar    Domingo  \n",
       "795993      Personal Care       1404       Familiar  Miércoles  \n",
       "\n",
       "[795994 rows x 12 columns]"
      ]
     },
     "execution_count": 3,
     "metadata": {},
     "output_type": "execute_result"
    }
   ],
   "source": [
    "df"
   ]
  },
  {
   "cell_type": "code",
   "execution_count": 4,
   "metadata": {},
   "outputs": [
    {
     "name": "stdout",
     "output_type": "stream",
     "text": [
      "<class 'pandas.core.frame.DataFrame'>\n",
      "RangeIndex: 795994 entries, 0 to 795993\n",
      "Data columns (total 12 columns):\n",
      " #   Column              Non-Null Count   Dtype         \n",
      "---  ------              --------------   -----         \n",
      " 0   PedidoId            795994 non-null  int64         \n",
      " 1   Cantidad            795994 non-null  int64         \n",
      " 2   PrecioUnitario      795994 non-null  int64         \n",
      " 3   MontoFinal          795994 non-null  int64         \n",
      " 4   CodigoProducto      795994 non-null  int64         \n",
      " 5   Producto            795994 non-null  object        \n",
      " 6   Fecha               795994 non-null  datetime64[ns]\n",
      " 7   Departamento        795994 non-null  object        \n",
      " 8   Grandes_Categorias  795994 non-null  object        \n",
      " 9   Id_Cliente          795994 non-null  object        \n",
      " 10  Tipo_pedido         795994 non-null  object        \n",
      " 11  Dia_Semana          795994 non-null  object        \n",
      "dtypes: datetime64[ns](1), int64(5), object(6)\n",
      "memory usage: 72.9+ MB\n"
     ]
    }
   ],
   "source": [
    "df.info()"
   ]
  },
  {
   "cell_type": "code",
   "execution_count": null,
   "metadata": {},
   "outputs": [],
   "source": [
    "df.isna().sum()"
   ]
  },
  {
   "cell_type": "code",
   "execution_count": null,
   "metadata": {},
   "outputs": [],
   "source": [
    "df.columns"
   ]
  },
  {
   "cell_type": "code",
   "execution_count": null,
   "metadata": {},
   "outputs": [],
   "source": [
    "df"
   ]
  },
  {
   "cell_type": "code",
   "execution_count": null,
   "metadata": {},
   "outputs": [],
   "source": [
    "df['Departamento'].value_counts()"
   ]
  },
  {
   "cell_type": "code",
   "execution_count": null,
   "metadata": {},
   "outputs": [],
   "source": [
    "import sklearn\n",
    "from sklearn.preprocessing import MinMaxScaler\n",
    "from sklearn.cluster import KMeans\n",
    "\n",
    "col_features= ['Cantidad','MontoFinal']\n",
    "x = MinMaxScaler().fit_transform(df[col_features])\n",
    "\n",
    "kmeans= KMeans(init='k-means++', n_clusters=4, random_state=15).fit(x)\n",
    "df['kmeans'] = kmeans.labels_"
   ]
  },
  {
   "cell_type": "code",
   "execution_count": null,
   "metadata": {},
   "outputs": [],
   "source": [
    "df"
   ]
  },
  {
   "cell_type": "code",
   "execution_count": null,
   "metadata": {},
   "outputs": [],
   "source": [
    "sns.scatterplot(data=df, x=\"Cantidad\", y=\"MontoFinal\", hue='kmeans', palette='Accent')"
   ]
  },
  {
   "cell_type": "code",
   "execution_count": null,
   "metadata": {},
   "outputs": [],
   "source": []
  },
  {
   "cell_type": "code",
   "execution_count": null,
   "metadata": {},
   "outputs": [],
   "source": [
    "len(df['Id_Cliente'].unique())"
   ]
  },
  {
   "cell_type": "code",
   "execution_count": null,
   "metadata": {},
   "outputs": [],
   "source": [
    "len(df['PedidoId'].unique())"
   ]
  },
  {
   "cell_type": "code",
   "execution_count": null,
   "metadata": {},
   "outputs": [],
   "source": [
    "df"
   ]
  },
  {
   "cell_type": "code",
   "execution_count": 5,
   "metadata": {},
   "outputs": [],
   "source": [
    "dfFecha=df"
   ]
  },
  {
   "cell_type": "code",
   "execution_count": null,
   "metadata": {},
   "outputs": [],
   "source": []
  },
  {
   "cell_type": "code",
   "execution_count": null,
   "metadata": {},
   "outputs": [],
   "source": []
  },
  {
   "cell_type": "code",
   "execution_count": 6,
   "metadata": {},
   "outputs": [
    {
     "data": {
      "text/html": [
       "<div>\n",
       "<style scoped>\n",
       "    .dataframe tbody tr th:only-of-type {\n",
       "        vertical-align: middle;\n",
       "    }\n",
       "\n",
       "    .dataframe tbody tr th {\n",
       "        vertical-align: top;\n",
       "    }\n",
       "\n",
       "    .dataframe thead th {\n",
       "        text-align: right;\n",
       "    }\n",
       "</style>\n",
       "<table border=\"1\" class=\"dataframe\">\n",
       "  <thead>\n",
       "    <tr style=\"text-align: right;\">\n",
       "      <th></th>\n",
       "      <th>Fecha</th>\n",
       "      <th>PedidoId</th>\n",
       "      <th>Cantidad</th>\n",
       "      <th>PrecioUnitario</th>\n",
       "      <th>MontoFinal</th>\n",
       "      <th>CodigoProducto</th>\n",
       "    </tr>\n",
       "  </thead>\n",
       "  <tbody>\n",
       "    <tr>\n",
       "      <th>0</th>\n",
       "      <td>2020-03-28</td>\n",
       "      <td>47848</td>\n",
       "      <td>794</td>\n",
       "      <td>12451</td>\n",
       "      <td>15413</td>\n",
       "      <td>22657770571</td>\n",
       "    </tr>\n",
       "    <tr>\n",
       "      <th>1</th>\n",
       "      <td>2020-03-29</td>\n",
       "      <td>316804</td>\n",
       "      <td>1966</td>\n",
       "      <td>29673</td>\n",
       "      <td>37271</td>\n",
       "      <td>55788031513</td>\n",
       "    </tr>\n",
       "    <tr>\n",
       "      <th>2</th>\n",
       "      <td>2020-03-30</td>\n",
       "      <td>2551377</td>\n",
       "      <td>1302</td>\n",
       "      <td>19844</td>\n",
       "      <td>23705</td>\n",
       "      <td>38304931339</td>\n",
       "    </tr>\n",
       "    <tr>\n",
       "      <th>3</th>\n",
       "      <td>2020-03-31</td>\n",
       "      <td>259227</td>\n",
       "      <td>721</td>\n",
       "      <td>11101</td>\n",
       "      <td>14033</td>\n",
       "      <td>19677976476</td>\n",
       "    </tr>\n",
       "    <tr>\n",
       "      <th>4</th>\n",
       "      <td>2020-04-01</td>\n",
       "      <td>3690291</td>\n",
       "      <td>661</td>\n",
       "      <td>9817</td>\n",
       "      <td>12385</td>\n",
       "      <td>23440012979</td>\n",
       "    </tr>\n",
       "    <tr>\n",
       "      <th>...</th>\n",
       "      <td>...</td>\n",
       "      <td>...</td>\n",
       "      <td>...</td>\n",
       "      <td>...</td>\n",
       "      <td>...</td>\n",
       "      <td>...</td>\n",
       "    </tr>\n",
       "    <tr>\n",
       "      <th>239</th>\n",
       "      <td>2020-11-22</td>\n",
       "      <td>71425536</td>\n",
       "      <td>2557</td>\n",
       "      <td>53095</td>\n",
       "      <td>65669</td>\n",
       "      <td>70319671646</td>\n",
       "    </tr>\n",
       "    <tr>\n",
       "      <th>240</th>\n",
       "      <td>2020-11-23</td>\n",
       "      <td>70738301</td>\n",
       "      <td>2790</td>\n",
       "      <td>49889</td>\n",
       "      <td>66330</td>\n",
       "      <td>65583726644</td>\n",
       "    </tr>\n",
       "    <tr>\n",
       "      <th>241</th>\n",
       "      <td>2020-11-24</td>\n",
       "      <td>3729094</td>\n",
       "      <td>131</td>\n",
       "      <td>2656</td>\n",
       "      <td>3157</td>\n",
       "      <td>3683905092</td>\n",
       "    </tr>\n",
       "    <tr>\n",
       "      <th>242</th>\n",
       "      <td>2020-11-25</td>\n",
       "      <td>783824</td>\n",
       "      <td>32</td>\n",
       "      <td>476</td>\n",
       "      <td>650</td>\n",
       "      <td>560001471</td>\n",
       "    </tr>\n",
       "    <tr>\n",
       "      <th>243</th>\n",
       "      <td>2020-11-26</td>\n",
       "      <td>821288</td>\n",
       "      <td>23</td>\n",
       "      <td>462</td>\n",
       "      <td>476</td>\n",
       "      <td>687664223</td>\n",
       "    </tr>\n",
       "  </tbody>\n",
       "</table>\n",
       "<p>244 rows × 6 columns</p>\n",
       "</div>"
      ],
      "text/plain": [
       "         Fecha  PedidoId  Cantidad  PrecioUnitario  MontoFinal  CodigoProducto\n",
       "0   2020-03-28     47848       794           12451       15413     22657770571\n",
       "1   2020-03-29    316804      1966           29673       37271     55788031513\n",
       "2   2020-03-30   2551377      1302           19844       23705     38304931339\n",
       "3   2020-03-31    259227       721           11101       14033     19677976476\n",
       "4   2020-04-01   3690291       661            9817       12385     23440012979\n",
       "..         ...       ...       ...             ...         ...             ...\n",
       "239 2020-11-22  71425536      2557           53095       65669     70319671646\n",
       "240 2020-11-23  70738301      2790           49889       66330     65583726644\n",
       "241 2020-11-24   3729094       131            2656        3157      3683905092\n",
       "242 2020-11-25    783824        32             476         650       560001471\n",
       "243 2020-11-26    821288        23             462         476       687664223\n",
       "\n",
       "[244 rows x 6 columns]"
      ]
     },
     "execution_count": 6,
     "metadata": {},
     "output_type": "execute_result"
    }
   ],
   "source": [
    "dfFecha=df.groupby(by=\"Fecha\").sum()\n",
    "\n",
    "#filt = (df['Cantidad']<1000) &(df['MontoFinalProd']<5000)\n",
    "#df=df.loc[filt]\n",
    "dfFecha=dfFecha.reset_index()\n",
    "dfFecha"
   ]
  },
  {
   "cell_type": "code",
   "execution_count": 7,
   "metadata": {},
   "outputs": [
    {
     "data": {
      "text/plain": [
       "Fecha             0\n",
       "PedidoId          0\n",
       "Cantidad          0\n",
       "PrecioUnitario    0\n",
       "MontoFinal        0\n",
       "CodigoProducto    0\n",
       "dtype: int64"
      ]
     },
     "execution_count": 7,
     "metadata": {},
     "output_type": "execute_result"
    }
   ],
   "source": [
    "dfFecha.isna().sum()"
   ]
  },
  {
   "cell_type": "code",
   "execution_count": null,
   "metadata": {},
   "outputs": [],
   "source": []
  },
  {
   "cell_type": "code",
   "execution_count": 10,
   "metadata": {},
   "outputs": [
    {
     "data": {
      "text/plain": [
       "<AxesSubplot:xlabel='Fecha', ylabel='MontoFinal'>"
      ]
     },
     "execution_count": 10,
     "metadata": {},
     "output_type": "execute_result"
    },
    {
     "data": {
      "image/png": "[encoded data removed]",
      "text/plain": [
       "<Figure size 432x288 with 1 Axes>"
      ]
     },
     "metadata": {
      "needs_background": "light"
     },
     "output_type": "display_data"
    }
   ],
   "source": [
    "sns.lineplot(data=dfFecha, x=\"Fecha\", y=\"MontoFinal\")"
   ]
  },
  {
   "cell_type": "code",
   "execution_count": 12,
   "metadata": {},
   "outputs": [
    {
     "data": {
      "text/plain": [
       "<AxesSubplot:ylabel='MontoFinal'>"
      ]
     },
     "execution_count": 12,
     "metadata": {},
     "output_type": "execute_result"
    },
    {
     "data": {
      "image/png": "[encoded data removed]",
      "text/plain": [
       "<Figure size 432x288 with 1 Axes>"
      ]
     },
     "metadata": {
      "needs_background": "light"
     },
     "output_type": "display_data"
    }
   ],
   "source": [
    "sns.boxplot(y=df['MontoFinal'])"
   ]
  },
  {
   "cell_type": "code",
   "execution_count": null,
   "metadata": {},
   "outputs": [],
   "source": [
    "df.describe()"
   ]
  },
  {
   "cell_type": "code",
   "execution_count": 13,
   "metadata": {},
   "outputs": [
    {
     "data": {
      "text/plain": [
       "<AxesSubplot:ylabel='Cantidad'>"
      ]
     },
     "execution_count": 13,
     "metadata": {},
     "output_type": "execute_result"
    },
    {
     "data": {
      "image/png": "[encoded data removed]",
      "text/plain": [
       "<Figure size 432x288 with 1 Axes>"
      ]
     },
     "metadata": {
      "needs_background": "light"
     },
     "output_type": "display_data"
    }
   ],
   "source": [
    "sns.boxplot(y=df['Cantidad'])"
   ]
  },
  {
   "cell_type": "code",
   "execution_count": null,
   "metadata": {},
   "outputs": [],
   "source": []
  },
  {
   "cell_type": "code",
   "execution_count": null,
   "metadata": {},
   "outputs": [],
   "source": []
  },
  {
   "cell_type": "code",
   "execution_count": null,
   "metadata": {},
   "outputs": [],
   "source": [
    "import matplotlib.pyplot as plt\n",
    "#from kneed import KneeLocator\n",
    "from sklearn.datasets import make_blobs\n",
    "from sklearn.cluster import KMeans\n",
    "from sklearn.metrics import silhouette_score\n",
    "from sklearn.preprocessing import StandardScaler\n",
    "\n",
    "col_features= ['Cantidad','MontoFinalProd']\n",
    "scaler = StandardScaler()\n",
    "scaled_features = scaler.fit_transform(df[col_features])\n",
    "\n",
    "kmeans = KMeans(init=\"random\", n_clusters=4, n_init=10, max_iter=300, random_state=42)\n",
    "\n",
    "kmeans.fit(scaled_features)\n",
    "\n",
    "df['kmeans2'] = kmeans.labels_"
   ]
  },
  {
   "cell_type": "code",
   "execution_count": null,
   "metadata": {},
   "outputs": [],
   "source": [
    "sns.scatterplot(data=df, x=\"Cantidad\", y=\"MontoFinalProd\", hue='kmeans2', palette='Accent_r')"
   ]
  },
  {
   "cell_type": "code",
   "execution_count": null,
   "metadata": {},
   "outputs": [],
   "source": [
    "print(kmeans.inertia_)\n",
    "print(kmeans.cluster_centers_)\n",
    "print(kmeans.n_iter_)\n",
    "\n"
   ]
  },
  {
   "cell_type": "code",
   "execution_count": null,
   "metadata": {},
   "outputs": [],
   "source": [
    "kmeans_kwargs = {\"init\": \"random\", \"n_init\": 10, \"max_iter\": 300, \"random_state\": 42}\n",
    "\n",
    "\n",
    "sse = []\n",
    "for k in range(1, 11):\n",
    "    kmeans = KMeans(n_clusters=k, **kmeans_kwargs)\n",
    "    kmeans.fit(scaled_features)\n",
    "    sse.append(kmeans.inertia_)\n",
    "\n",
    "\n",
    "plt.style.use(\"fivethirtyeight\")\n",
    "plt.plot(range(1, 11), sse)\n",
    "plt.xticks(range(1, 11))\n",
    "plt.xlabel(\"Number of Clusters\")\n",
    "plt.ylabel(\"SSE\")\n",
    "plt.show()"
   ]
  },
  {
   "cell_type": "code",
   "execution_count": null,
   "metadata": {},
   "outputs": [],
   "source": []
  },
  {
   "cell_type": "code",
   "execution_count": null,
   "metadata": {},
   "outputs": [],
   "source": []
  },
  {
   "cell_type": "code",
   "execution_count": null,
   "metadata": {},
   "outputs": [],
   "source": []
  },
  {
   "cell_type": "code",
   "execution_count": null,
   "metadata": {},
   "outputs": [],
   "source": []
  },
  {
   "cell_type": "code",
   "execution_count": null,
   "metadata": {},
   "outputs": [],
   "source": [
    "from scipy import stats\n",
    "\n",
    "z = np.abs(stats.zscore(df['MontoFinalProd']))\n",
    "#print(z)\n",
    "#type(z)\n",
    "dfz= pd.DataFrame(z)\n",
    "dfz"
   ]
  },
  {
   "cell_type": "code",
   "execution_count": null,
   "metadata": {},
   "outputs": [],
   "source": [
    "#threshold = 3\n",
    "#print(np.where(z > 3))\n",
    "df=pd.concat([df, dfz], axis=1)\n",
    "df"
   ]
  },
  {
   "cell_type": "code",
   "execution_count": null,
   "metadata": {},
   "outputs": [],
   "source": [
    "df=df.rename(columns={0:'z'})"
   ]
  },
  {
   "cell_type": "code",
   "execution_count": null,
   "metadata": {},
   "outputs": [],
   "source": [
    "#retirando los outliers\n",
    "filtz=df['z']<3\n",
    "df=df.loc[filtz]\n",
    "df=df.drop(columns=['z'])\n",
    "df=df.reset_index(drop= True)\n",
    "df"
   ]
  },
  {
   "cell_type": "code",
   "execution_count": null,
   "metadata": {},
   "outputs": [],
   "source": [
    "sns.scatterplot(data=df, x=\"Cantidad\", y=\"MontoFinalProd\")"
   ]
  },
  {
   "cell_type": "code",
   "execution_count": null,
   "metadata": {},
   "outputs": [],
   "source": [
    "sns.boxplot(y=df['MontoFinalProd'])"
   ]
  },
  {
   "cell_type": "code",
   "execution_count": null,
   "metadata": {},
   "outputs": [],
   "source": [
    "sns.boxplot(y=df['Cantidad'])"
   ]
  },
  {
   "cell_type": "code",
   "execution_count": null,
   "metadata": {},
   "outputs": [],
   "source": [
    "import sklearn\n",
    "from sklearn.preprocessing import MinMaxScaler\n",
    "from sklearn.cluster import KMeans\n",
    "\n",
    "col_features= ['Cantidad','MontoFinalProd']\n",
    "x = MinMaxScaler().fit_transform(df[col_features])\n",
    "\n",
    "kmeans= KMeans(init='k-means++', n_clusters=4, random_state=15).fit(x)\n",
    "df['kmeans'] = kmeans.labels_\n"
   ]
  },
  {
   "cell_type": "code",
   "execution_count": null,
   "metadata": {},
   "outputs": [],
   "source": []
  },
  {
   "cell_type": "code",
   "execution_count": null,
   "metadata": {},
   "outputs": [],
   "source": [
    "df"
   ]
  },
  {
   "cell_type": "code",
   "execution_count": null,
   "metadata": {},
   "outputs": [],
   "source": [
    "sns.scatterplot(data=df, x=\"Cantidad\", y=\"MontoFinalProd\", hue='kmeans', palette='Accent_r')"
   ]
  },
  {
   "cell_type": "code",
   "execution_count": null,
   "metadata": {},
   "outputs": [],
   "source": [
    "#df.to_excel(r'C:/Users/HP/Desktop/TESIS/EMPRESA_NDA/DATOS/DATOS_NDA.xlsx',sheet_name='hoja1')"
   ]
  },
  {
   "cell_type": "code",
   "execution_count": null,
   "metadata": {},
   "outputs": [],
   "source": [
    "#import matplotlib.pyplot as plt\n",
    "#from kneed import KneeLocator\n",
    "from sklearn.datasets import make_blobs\n",
    "from sklearn.cluster import KMeans\n",
    "from sklearn.metrics import silhouette_score\n",
    "from sklearn.preprocessing import StandardScaler\n",
    "\n",
    "#col_features= ['Cantidad','MontoFinalProd']\n",
    "#scaler = StandardScaler()\n",
    "#scaled_features = scaler.fit_transform(col_features)\n",
    "\n",
    "#kmeans = KMeans(init=\"random\", n_clusters=3, n_init=10, max_iter=300, random_state=42)\n",
    "\n",
    "#kmeans.fit(scaled_features)\n",
    "\n",
    "\n",
    "kmeans.inertia_\n",
    "kmeans.cluster_centers_\n",
    "kmeans.n_iter_\n",
    "\n",
    "kmeans_kwargs = {\"init\": \"random\", \"n_init\": 10, \"max_iter\": 300, \"random_state\": 42}\n",
    "\n",
    "\n",
    "sse = []\n",
    "for k in range(1, 11):\n",
    "    kmeans = KMeans(n_clusters=k, **kmeans_kwargs)\n",
    "    kmeans.fit(scaled_features)\n",
    "    sse.append(kmeans.inertia_)\n",
    "\n",
    "\n",
    "plt.style.use(\"fivethirtyeight\")\n",
    "plt.plot(range(1, 11), sse)\n",
    "plt.xticks(range(1, 11))\n",
    "plt.xlabel(\"Number of Clusters\")\n",
    "plt.ylabel(\"SSE\")\n",
    "plt.show()"
   ]
  }
 ],
 "metadata": {
  "kernelspec": {
   "display_name": "Python 3",
   "language": "python",
   "name": "python3"
  },
  "language_info": {
   "codemirror_mode": {
    "name": "ipython",
    "version": 3
   },
   "file_extension": ".py",
   "mimetype": "text/x-python",
   "name": "python",
   "nbconvert_exporter": "python",
   "pygments_lexer": "ipython3",
   "version": "3.8.5"
  },
  "toc": {
   "base_numbering": 1,
   "nav_menu": {},
   "number_sections": true,
   "sideBar": true,
   "skip_h1_title": false,
   "title_cell": "Table of Contents",
   "title_sidebar": "Contents",
   "toc_cell": false,
   "toc_position": {},
   "toc_section_display": true,
   "toc_window_display": false
  },
  "varInspector": {
   "cols": {
    "lenName": 16,
    "lenType": 16,
    "lenVar": 40
   },
   "kernels_config": {
    "python": {
     "delete_cmd_postfix": "",
     "delete_cmd_prefix": "del ",
     "library": "var_list.py",
     "varRefreshCmd": "print(var_dic_list())"
    },
    "r": {
     "delete_cmd_postfix": ") ",
     "delete_cmd_prefix": "rm(",
     "library": "var_list.r",
     "varRefreshCmd": "cat(var_dic_list()) "
    }
   },
   "types_to_exclude": [
    "module",
    "function",
    "builtin_function_or_method",
    "instance",
    "_Feature"
   ],
   "window_display": false
  }
 },
 "nbformat": 4,
 "nbformat_minor": 4
}
